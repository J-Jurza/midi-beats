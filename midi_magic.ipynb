{
 "cells": [
  {
   "cell_type": "code",
   "execution_count": 13,
   "metadata": {},
   "outputs": [
    {
     "data": {
      "text/plain": [
       "{'pattern_num': 1,\n",
       " 'genre': 'house',\n",
       " 'tags': ['classic', 'four-on-the-floor'],\n",
       " 'desc': 'Standard house beat with clap and hi-hats',\n",
       " 'kick': [100, 0, 0, 0, 100, 0, 0, 0, 100, 0, 0, 0, 100, 0, 0, 0],\n",
       " 'snare': [0, 0, 0, 0, 100, 0, 0, 0, 0, 0, 0, 0, 100, 0, 0, 0],\n",
       " 'tom': [0, 0, 0, 0, 0, 0, 0, 0, 0, 0, 0, 0, 0, 0, 0, 0],\n",
       " 'clap': [0, 0, 0, 0, 90, 0, 0, 0, 0, 0, 0, 0, 90, 0, 0, 0],\n",
       " 'oh': [0, 0, 0, 0, 0, 0, 0, 60, 0, 0, 0, 0, 0, 0, 0, 60],\n",
       " 'ch': [0, 80, 0, 80, 0, 80, 0, 80, 0, 80, 0, 80, 0, 80, 0, 80],\n",
       " 'ride': [0, 0, 0, 0, 0, 0, 0, 0, 0, 0, 0, 0, 0, 0, 0, 0]}"
      ]
     },
     "execution_count": 13,
     "metadata": {},
     "output_type": "execute_result"
    }
   ],
   "source": [
    "from midi_magic_patterns import all_patterns, house_patterns, ukg_patterns, dnb_patterns\n",
    "from midi_magic_functions import *\n",
    "\n",
    "output_dir = r\"/Users/honzik/Production Library/Libraries/Ableton/User Library/MIDI Clips\"   \n",
    "\n",
    "drum_map = {\n",
    "    \"kick\": 36,   # Bass Drum\n",
    "    \"snare\": 38,  # Snare Drum\n",
    "    \"hihat\": 42,  # Closed Hi-Hat\n",
    "    \"oh\": 46,     # Open Hi-Hat\n",
    "    \"clap\": 39,   # Hand Clap\n",
    "    \"tom\": 43     # Low Tom\n",
    "}\n",
    "\n",
    "base_pattern = house_patterns[0]\n",
    "base_pattern"
   ]
  },
  {
   "cell_type": "code",
   "execution_count": 14,
   "metadata": {},
   "outputs": [],
   "source": [
    "# New function to process each pattern\n",
    "def process_pattern_to_midi(base_pattern, output_dir=output_dir):\n",
    "    \"\"\"\n",
    "    Process a single drum pattern into a 4-bar MIDI clip with humanization.\n",
    "    \n",
    "    Args:\n",
    "        base_pattern (dict): A single drum pattern dictionary with drum sequences and metadata.\n",
    "        output_dir (str): Directory to save MIDI files.\n",
    "    \"\"\"\n",
    "    # Step 1: Generate a 4-bar phrase\n",
    "    phrase = generate_4_bar_clip(base_pattern)\n",
    "\n",
    "    # Step 2: Convert to MIDI sequence with humanization\n",
    "    midi_track = create_midi_sequence(\n",
    "        phrase,\n",
    "        drum_map,\n",
    "        ticks_per_16th=120,\n",
    "        mode='both',\n",
    "        velocity_range=15,\n",
    "        timing_range=20\n",
    "    )\n",
    "\n",
    "    # Step 3: Save the MIDI clip\n",
    "    genre = base_pattern.get('genre', 'unknown')  # Use pattern's genre if available\n",
    "    save_midi_clip(\n",
    "        midi_track,\n",
    "        instrument=\"drums\",\n",
    "        genre=genre,\n",
    "        output_dir=output_dir\n",
    "    )\n",
    "\n",
    "    # Step 4: Print confirmation\n",
    "    print(f\"MIDI generation and saving complete for pattern {base_pattern.get('pattern_num', 'unknown')}!\")"
   ]
  },
  {
   "cell_type": "code",
   "execution_count": null,
   "metadata": {},
   "outputs": [
    {
     "name": "stdout",
     "output_type": "stream",
     "text": [
      "{'pattern_num': 1, 'genre': 'house', 'tags': ['classic', 'four-on-the-floor'], 'desc': 'Standard house beat with clap and hi-hats', 'kick': [100, 0, 0, 0, 100, 0, 0, 0, 100, 0, 0, 0, 100, 0, 0, 0], 'snare': [0, 0, 0, 0, 100, 0, 0, 0, 0, 0, 0, 0, 100, 0, 0, 0], 'tom': [0, 0, 0, 0, 0, 0, 0, 0, 0, 0, 0, 0, 0, 0, 0, 0], 'clap': [0, 0, 0, 0, 90, 0, 0, 0, 0, 0, 0, 0, 90, 0, 0, 0], 'oh': [0, 0, 0, 0, 0, 0, 0, 60, 0, 0, 0, 0, 0, 0, 0, 60], 'ch': [0, 80, 0, 80, 0, 80, 0, 80, 0, 80, 0, 80, 0, 80, 0, 80], 'ride': [0, 0, 0, 0, 0, 0, 0, 0, 0, 0, 0, 0, 0, 0, 0, 0]}\n",
      "Saved MIDI clip to: /Users/honzik/Production Library/Libraries/Ableton/User Library/MIDI Clips/2025_03_26/house/drums_house_2.mid\n",
      "MIDI generation and saving complete for pattern 1!\n",
      "{'pattern_num': 2, 'genre': 'house', 'tags': ['tech', 'offbeat'], 'desc': 'Tech house with extra kick on offbeat', 'kick': [100, 0, 0, 0, 100, 0, 0, 90, 0, 0, 0, 100, 0, 0, 0, 0], 'snare': [0, 0, 0, 0, 100, 0, 0, 0, 0, 0, 0, 0, 100, 0, 0, 0], 'tom': [0, 0, 0, 0, 0, 0, 0, 0, 0, 0, 0, 0, 0, 0, 0, 0], 'clap': [0, 0, 0, 0, 90, 0, 0, 0, 0, 0, 0, 0, 90, 0, 0, 0], 'oh': [0, 0, 0, 0, 0, 0, 0, 0, 0, 0, 0, 0, 0, 0, 0, 0], 'ch': [0, 80, 0, 80, 0, 80, 0, 80, 0, 80, 0, 80, 0, 80, 0, 80], 'ride': [0, 0, 0, 0, 0, 0, 0, 0, 0, 0, 0, 0, 0, 0, 0, 0]}\n",
      "Saved MIDI clip to: /Users/honzik/Production Library/Libraries/Ableton/User Library/MIDI Clips/2025_03_26/house/drums_house_3.mid\n",
      "MIDI generation and saving complete for pattern 1!\n",
      "{'pattern_num': 3, 'genre': 'house', 'tags': ['deep', 'ride'], 'desc': 'Deep house with ride cymbal groove', 'kick': [100, 0, 0, 0, 100, 0, 0, 0, 100, 0, 0, 0, 100, 0, 0, 0], 'snare': [0, 0, 0, 0, 80, 0, 0, 0, 0, 0, 0, 0, 80, 0, 0, 0], 'tom': [0, 0, 0, 0, 0, 0, 0, 0, 0, 0, 0, 0, 0, 0, 0, 0], 'clap': [0, 0, 0, 0, 70, 0, 0, 0, 0, 0, 0, 0, 70, 0, 0, 0], 'oh': [0, 0, 0, 0, 0, 0, 0, 50, 0, 0, 0, 0, 0, 0, 0, 50], 'ch': [0, 60, 0, 60, 0, 60, 0, 60, 0, 60, 0, 60, 0, 60, 0, 60], 'ride': [80, 0, 80, 0, 80, 0, 80, 0, 80, 0, 80, 0, 80, 0, 80, 0]}\n",
      "Saved MIDI clip to: /Users/honzik/Production Library/Libraries/Ableton/User Library/MIDI Clips/2025_03_26/house/drums_house_4.mid\n",
      "MIDI generation and saving complete for pattern 1!\n",
      "{'pattern_num': 4, 'genre': 'house', 'tags': ['minimal'], 'desc': 'Minimal house with sparse elements', 'kick': [100, 0, 0, 0, 100, 0, 0, 0, 100, 0, 0, 0, 100, 0, 0, 0], 'snare': [0, 0, 0, 0, 0, 0, 0, 0, 0, 0, 0, 0, 0, 0, 0, 0], 'tom': [0, 0, 0, 0, 0, 0, 0, 0, 0, 0, 0, 0, 0, 0, 0, 0], 'clap': [0, 0, 0, 0, 90, 0, 0, 0, 0, 0, 0, 0, 90, 0, 0, 0], 'oh': [0, 0, 0, 0, 0, 0, 0, 0, 0, 0, 0, 0, 0, 0, 0, 0], 'ch': [0, 70, 0, 70, 0, 70, 0, 70, 0, 70, 0, 70, 0, 70, 0, 70], 'ride': [0, 0, 0, 0, 0, 0, 0, 0, 0, 0, 0, 0, 0, 0, 0, 0]}\n",
      "Saved MIDI clip to: /Users/honzik/Production Library/Libraries/Ableton/User Library/MIDI Clips/2025_03_26/house/drums_house_5.mid\n",
      "MIDI generation and saving complete for pattern 1!\n",
      "{'pattern_num': 5, 'genre': 'house', 'tags': ['funky', 'syncopated'], 'desc': 'Funky house with offbeat claps and ghost snares', 'kick': [100, 0, 0, 90, 0, 0, 100, 0, 0, 0, 100, 0, 0, 90, 0, 0], 'snare': [0, 0, 0, 0, 100, 0, 40, 0, 0, 0, 0, 0, 100, 0, 40, 0], 'tom': [0, 0, 0, 0, 0, 0, 0, 0, 0, 0, 0, 0, 0, 0, 0, 0], 'clap': [0, 0, 0, 80, 0, 0, 0, 80, 0, 0, 0, 80, 0, 0, 0, 80], 'oh': [0, 0, 0, 0, 0, 0, 0, 60, 0, 0, 0, 0, 0, 0, 0, 60], 'ch': [0, 80, 0, 80, 0, 80, 0, 80, 0, 80, 0, 80, 0, 80, 0, 80], 'ride': [0, 0, 0, 0, 0, 0, 0, 0, 0, 0, 0, 0, 0, 0, 0, 0]}\n",
      "Saved MIDI clip to: /Users/honzik/Production Library/Libraries/Ableton/User Library/MIDI Clips/2025_03_26/house/drums_house_6.mid\n",
      "MIDI generation and saving complete for pattern 1!\n",
      "{'pattern_num': 6, 'genre': 'house', 'tags': ['tribal', 'percussive'], 'desc': 'Tribal house with heavy tom usage', 'kick': [100, 0, 0, 0, 100, 0, 0, 0, 100, 0, 0, 0, 100, 0, 0, 0], 'snare': [0, 0, 0, 0, 0, 0, 0, 0, 0, 0, 0, 0, 0, 0, 0, 0], 'tom': [0, 80, 0, 80, 0, 80, 0, 80, 0, 80, 0, 80, 0, 80, 0, 80], 'clap': [0, 0, 0, 0, 90, 0, 0, 0, 0, 0, 0, 0, 90, 0, 0, 0], 'oh': [0, 0, 0, 0, 0, 0, 0, 0, 0, 0, 0, 0, 0, 0, 0, 0], 'ch': [0, 70, 0, 70, 0, 70, 0, 70, 0, 70, 0, 70, 0, 70, 0, 70], 'ride': [0, 0, 0, 0, 0, 0, 0, 0, 0, 0, 0, 0, 0, 0, 0, 0]}\n",
      "Saved MIDI clip to: /Users/honzik/Production Library/Libraries/Ableton/User Library/MIDI Clips/2025_03_26/house/drums_house_7.mid\n",
      "MIDI generation and saving complete for pattern 1!\n",
      "{'pattern_num': 7, 'genre': 'house', 'tags': ['acid', 'syncopated'], 'desc': 'Acid house with syncopated kicks and toms', 'kick': [100, 0, 0, 0, 100, 0, 0, 90, 0, 0, 0, 100, 0, 0, 0, 0], 'snare': [0, 0, 0, 0, 100, 0, 40, 0, 0, 0, 0, 0, 100, 0, 40, 0], 'tom': [0, 0, 0, 0, 0, 0, 0, 0, 0, 0, 0, 80, 0, 80, 0, 80], 'clap': [0, 0, 0, 0, 90, 0, 0, 0, 0, 0, 0, 0, 90, 0, 0, 0], 'oh': [0, 0, 0, 60, 0, 0, 0, 60, 0, 0, 0, 60, 0, 0, 0, 60], 'ch': [0, 80, 0, 80, 0, 80, 0, 80, 0, 80, 0, 80, 0, 80, 0, 80], 'ride': [0, 0, 0, 0, 0, 0, 0, 0, 0, 0, 0, 0, 0, 0, 0, 0]}\n",
      "Saved MIDI clip to: /Users/honzik/Production Library/Libraries/Ableton/User Library/MIDI Clips/2025_03_26/house/drums_house_8.mid\n",
      "MIDI generation and saving complete for pattern 1!\n",
      "{'pattern_num': 8, 'genre': 'house', 'tags': ['progressive', 'build-up'], 'desc': 'Progressive house with building hi-hats and ride', 'kick': [100, 0, 0, 0, 100, 0, 0, 0, 100, 0, 0, 0, 100, 0, 0, 0], 'snare': [0, 0, 0, 0, 100, 0, 0, 0, 0, 0, 0, 0, 100, 0, 0, 0], 'tom': [0, 0, 0, 0, 0, 0, 0, 0, 0, 0, 0, 0, 0, 80, 80, 80], 'clap': [0, 0, 0, 0, 90, 0, 0, 0, 0, 0, 0, 0, 90, 0, 0, 0], 'oh': [0, 0, 0, 0, 0, 0, 0, 60, 0, 0, 0, 0, 0, 0, 0, 60], 'ch': [0, 70, 0, 70, 0, 70, 0, 70, 0, 70, 0, 70, 0, 70, 0, 70], 'ride': [0, 0, 80, 0, 0, 0, 80, 0, 0, 0, 80, 0, 0, 0, 80, 0]}\n",
      "Saved MIDI clip to: /Users/honzik/Production Library/Libraries/Ableton/User Library/MIDI Clips/2025_03_26/house/drums_house_9.mid\n",
      "MIDI generation and saving complete for pattern 1!\n",
      "{'pattern_num': 9, 'genre': 'house', 'tags': ['disco', 'funky'], 'desc': 'Disco house with ride and open hi-hats', 'kick': [100, 0, 0, 0, 100, 0, 0, 0, 100, 0, 0, 0, 100, 0, 0, 0], 'snare': [0, 0, 0, 0, 100, 0, 0, 0, 0, 0, 0, 0, 100, 0, 0, 0], 'tom': [0, 0, 0, 0, 0, 0, 0, 0, 0, 0, 0, 0, 0, 0, 0, 0], 'clap': [0, 0, 0, 0, 90, 0, 0, 0, 0, 0, 0, 0, 90, 0, 0, 0], 'oh': [0, 0, 0, 0, 0, 0, 0, 60, 0, 0, 0, 0, 0, 0, 0, 60], 'ch': [0, 80, 0, 80, 0, 80, 0, 80, 0, 80, 0, 80, 0, 80, 0, 80], 'ride': [80, 0, 80, 0, 80, 0, 80, 0, 80, 0, 80, 0, 80, 0, 80, 0]}\n",
      "Saved MIDI clip to: /Users/honzik/Production Library/Libraries/Ableton/User Library/MIDI Clips/2025_03_26/house/drums_house_10.mid\n",
      "MIDI generation and saving complete for pattern 1!\n",
      "{'pattern_num': 10, 'genre': 'house', 'tags': ['afro', 'percussive'], 'desc': 'Afro house with tribal tom patterns', 'kick': [100, 0, 0, 0, 100, 0, 0, 0, 100, 0, 0, 0, 100, 0, 0, 0], 'snare': [0, 0, 0, 0, 0, 0, 0, 0, 0, 0, 0, 0, 0, 0, 0, 0], 'tom': [0, 80, 0, 80, 0, 80, 0, 80, 0, 80, 0, 80, 0, 80, 0, 80], 'clap': [0, 0, 0, 0, 90, 0, 0, 0, 0, 0, 0, 0, 90, 0, 0, 0], 'oh': [0, 0, 0, 0, 0, 0, 0, 0, 0, 0, 0, 0, 0, 0, 0, 0], 'ch': [0, 70, 0, 70, 0, 70, 0, 70, 0, 70, 0, 70, 0, 70, 0, 70], 'ride': [0, 0, 0, 0, 0, 0, 0, 0, 0, 0, 0, 0, 0, 0, 0, 0]}\n",
      "Saved MIDI clip to: /Users/honzik/Production Library/Libraries/Ableton/User Library/MIDI Clips/2025_03_26/house/drums_house_11.mid\n",
      "MIDI generation and saving complete for pattern 1!\n",
      "{'pattern_num': 11, 'genre': 'house', 'tags': ['jackin', 'swing'], 'desc': 'Jackin’ house with swung hi-hats and offbeat kicks', 'kick': [100, 0, 0, 90, 0, 0, 100, 0, 0, 0, 100, 0, 0, 90, 0, 0], 'snare': [0, 0, 0, 0, 100, 0, 40, 0, 0, 0, 0, 0, 100, 0, 40, 0], 'tom': [0, 0, 0, 0, 0, 0, 0, 0, 0, 0, 0, 0, 0, 0, 0, 0], 'clap': [0, 0, 0, 0, 90, 0, 0, 0, 0, 0, 0, 0, 90, 0, 0, 0], 'oh': [0, 0, 0, 0, 0, 0, 0, 60, 0, 0, 0, 0, 0, 0, 0, 60], 'ch': [0, 80, 0, 70, 0, 80, 0, 0, 0, 80, 0, 70, 0, 80, 0, 0], 'ride': [0, 0, 0, 0, 0, 0, 0, 0, 0, 0, 0, 0, 0, 0, 0, 0]}\n",
      "Saved MIDI clip to: /Users/honzik/Production Library/Libraries/Ableton/User Library/MIDI Clips/2025_03_26/house/drums_house_12.mid\n",
      "MIDI generation and saving complete for pattern 1!\n",
      "{'pattern_num': 12, 'genre': 'house', 'tags': ['chicago', 'double-snares'], 'desc': 'Chicago house with double snares for extra groove', 'kick': [100, 0, 0, 0, 100, 0, 0, 0, 100, 0, 0, 0, 100, 0, 0, 0], 'snare': [0, 0, 0, 0, 100, 0, 0, 90, 0, 0, 0, 0, 100, 0, 0, 90], 'tom': [0, 0, 0, 0, 0, 0, 0, 0, 0, 0, 0, 0, 0, 0, 0, 0], 'clap': [0, 0, 0, 0, 90, 0, 0, 0, 0, 0, 0, 0, 90, 0, 0, 0], 'oh': [0, 0, 0, 0, 0, 0, 0, 60, 0, 0, 0, 0, 0, 0, 0, 60], 'ch': [0, 80, 0, 80, 0, 80, 0, 80, 0, 80, 0, 80, 0, 80, 0, 80], 'ride': [0, 0, 0, 0, 0, 0, 0, 0, 0, 0, 0, 0, 0, 0, 0, 0]}\n",
      "Saved MIDI clip to: /Users/honzik/Production Library/Libraries/Ableton/User Library/MIDI Clips/2025_03_26/house/drums_house_13.mid\n",
      "MIDI generation and saving complete for pattern 1!\n",
      "{'pattern_num': 13, 'genre': 'house', 'tags': ['melodic', 'atmospheric'], 'desc': 'Melodic house with soft, spacious hi-hats', 'kick': [100, 0, 0, 0, 100, 0, 0, 0, 100, 0, 0, 0, 100, 0, 0, 0], 'snare': [0, 0, 0, 0, 80, 0, 0, 0, 0, 0, 0, 0, 80, 0, 0, 0], 'tom': [0, 0, 0, 0, 0, 0, 0, 0, 0, 0, 0, 0, 0, 0, 0, 0], 'clap': [0, 0, 0, 0, 70, 0, 0, 0, 0, 0, 0, 0, 70, 0, 0, 0], 'oh': [0, 0, 0, 50, 0, 0, 0, 50, 0, 0, 0, 50, 0, 0, 0, 50], 'ch': [0, 60, 0, 0, 0, 60, 0, 0, 0, 60, 0, 0, 0, 60, 0, 0], 'ride': [0, 0, 0, 0, 0, 0, 0, 0, 0, 0, 0, 0, 0, 0, 0, 0]}\n",
      "Saved MIDI clip to: /Users/honzik/Production Library/Libraries/Ableton/User Library/MIDI Clips/2025_03_26/house/drums_house_14.mid\n",
      "MIDI generation and saving complete for pattern 1!\n",
      "{'pattern_num': 14, 'genre': 'house', 'tags': ['latin', 'polyrhythmic'], 'desc': 'Latin house with polyrhythmic toms and claps', 'kick': [100, 0, 0, 0, 100, 0, 0, 0, 100, 0, 0, 0, 100, 0, 0, 0], 'snare': [0, 0, 0, 0, 100, 0, 0, 0, 0, 0, 0, 0, 100, 0, 0, 0], 'tom': [0, 80, 0, 70, 0, 80, 0, 0, 0, 80, 0, 70, 0, 80, 0, 0], 'clap': [0, 0, 0, 90, 0, 0, 0, 80, 0, 0, 0, 90, 0, 0, 0, 80], 'oh': [0, 0, 0, 0, 0, 0, 0, 0, 0, 0, 0, 0, 0, 0, 0, 0], 'ch': [0, 70, 0, 70, 0, 70, 0, 70, 0, 70, 0, 70, 0, 70, 0, 70], 'ride': [0, 0, 0, 0, 0, 0, 0, 0, 0, 0, 0, 0, 0, 0, 0, 0]}\n",
      "Saved MIDI clip to: /Users/honzik/Production Library/Libraries/Ableton/User Library/MIDI Clips/2025_03_26/house/drums_house_15.mid\n",
      "MIDI generation and saving complete for pattern 1!\n",
      "{'pattern_num': 15, 'genre': 'house', 'tags': ['garage-house', 'swing'], 'desc': 'House with UKG-inspired swung kicks and snares', 'kick': [100, 0, 0, 90, 0, 0, 100, 0, 0, 0, 100, 0, 0, 90, 0, 0], 'snare': [0, 0, 0, 0, 100, 0, 0, 0, 0, 0, 0, 0, 100, 0, 0, 0], 'tom': [0, 0, 0, 0, 0, 0, 0, 0, 0, 0, 0, 0, 0, 0, 0, 0], 'clap': [0, 0, 0, 0, 90, 0, 0, 0, 0, 0, 0, 0, 90, 0, 0, 0], 'oh': [0, 0, 0, 0, 0, 0, 0, 60, 0, 0, 0, 0, 0, 0, 0, 60], 'ch': [0, 80, 0, 70, 0, 80, 0, 0, 0, 80, 0, 70, 0, 80, 0, 0], 'ride': [0, 0, 0, 0, 0, 0, 0, 0, 0, 0, 0, 0, 0, 0, 0, 0]}\n",
      "Saved MIDI clip to: /Users/honzik/Production Library/Libraries/Ableton/User Library/MIDI Clips/2025_03_26/house/drums_house_16.mid\n",
      "MIDI generation and saving complete for pattern 1!\n",
      "{'pattern_num': 16, 'genre': 'house', 'tags': ['lo-fi', 'crunchy'], 'desc': 'Lo-fi house with crunchy snares and muted kicks', 'kick': [80, 0, 0, 0, 80, 0, 0, 0, 80, 0, 0, 0, 80, 0, 0, 0], 'snare': [0, 0, 0, 0, 100, 0, 40, 0, 0, 0, 0, 0, 100, 0, 40, 0], 'tom': [0, 0, 0, 0, 0, 0, 0, 0, 0, 0, 0, 0, 0, 0, 0, 0], 'clap': [0, 0, 0, 0, 70, 0, 0, 0, 0, 0, 0, 0, 70, 0, 0, 0], 'oh': [0, 0, 0, 0, 0, 0, 0, 50, 0, 0, 0, 0, 0, 0, 0, 50], 'ch': [0, 60, 0, 60, 0, 60, 0, 60, 0, 60, 0, 60, 0, 60, 0, 60], 'ride': [0, 0, 0, 0, 0, 0, 0, 0, 0, 0, 0, 0, 0, 0, 0, 0]}\n",
      "Saved MIDI clip to: /Users/honzik/Production Library/Libraries/Ableton/User Library/MIDI Clips/2025_03_26/house/drums_house_17.mid\n",
      "MIDI generation and saving complete for pattern 1!\n",
      "{'pattern_num': 17, 'genre': 'house', 'tags': ['big-room', 'build-up'], 'desc': 'Big room house with snare rolls for tension', 'kick': [100, 0, 0, 0, 100, 0, 0, 0, 100, 0, 0, 0, 100, 0, 0, 0], 'snare': [0, 0, 0, 0, 100, 0, 0, 0, 0, 0, 0, 0, 100, 80, 80, 80], 'tom': [0, 0, 0, 0, 0, 0, 0, 0, 0, 0, 0, 0, 0, 0, 0, 0], 'clap': [0, 0, 0, 0, 90, 0, 0, 0, 0, 0, 0, 0, 90, 0, 0, 0], 'oh': [0, 0, 0, 0, 0, 0, 0, 60, 0, 0, 0, 0, 0, 0, 0, 60], 'ch': [0, 70, 0, 70, 0, 70, 0, 70, 0, 70, 0, 70, 0, 70, 0, 70], 'ride': [0, 0, 0, 0, 0, 0, 0, 0, 0, 0, 0, 0, 0, 0, 0, 0]}\n",
      "Saved MIDI clip to: /Users/honzik/Production Library/Libraries/Ableton/User Library/MIDI Clips/2025_03_26/house/drums_house_18.mid\n",
      "MIDI generation and saving complete for pattern 1!\n",
      "{'pattern_num': 18, 'genre': 'house', 'tags': ['french', 'funky'], 'desc': 'French house with funky claps and hi-hats', 'kick': [100, 0, 0, 0, 100, 0, 0, 0, 100, 0, 0, 0, 100, 0, 0, 0], 'snare': [0, 0, 0, 0, 100, 0, 0, 0, 0, 0, 0, 0, 100, 0, 0, 0], 'tom': [0, 0, 0, 0, 0, 0, 0, 0, 0, 0, 0, 0, 0, 0, 0, 0], 'clap': [0, 0, 0, 80, 0, 0, 0, 80, 0, 0, 0, 80, 0, 0, 0, 80], 'oh': [0, 0, 0, 0, 0, 0, 0, 60, 0, 0, 0, 0, 0, 0, 0, 60], 'ch': [0, 80, 0, 80, 0, 80, 0, 80, 0, 80, 0, 80, 0, 80, 0, 80], 'ride': [0, 0, 0, 0, 0, 0, 0, 0, 0, 0, 0, 0, 0, 0, 0, 0]}\n",
      "Saved MIDI clip to: /Users/honzik/Production Library/Libraries/Ableton/User Library/MIDI Clips/2025_03_26/house/drums_house_19.mid\n",
      "MIDI generation and saving complete for pattern 1!\n",
      "{'pattern_num': 19, 'genre': 'house', 'tags': ['tropical', 'offbeat'], 'desc': 'Tropical house with offbeat toms and claps', 'kick': [100, 0, 0, 0, 100, 0, 0, 0, 100, 0, 0, 0, 100, 0, 0, 0], 'snare': [0, 0, 0, 0, 100, 0, 0, 0, 0, 0, 0, 0, 100, 0, 0, 0], 'tom': [0, 0, 0, 80, 0, 0, 0, 80, 0, 0, 0, 80, 0, 0, 0, 80], 'clap': [0, 0, 0, 90, 0, 0, 0, 90, 0, 0, 0, 90, 0, 0, 0, 90], 'oh': [0, 0, 0, 0, 0, 0, 0, 0, 0, 0, 0, 0, 0, 0, 0, 0], 'ch': [0, 70, 0, 70, 0, 70, 0, 70, 0, 70, 0, 70, 0, 70, 0, 70], 'ride': [0, 0, 0, 0, 0, 0, 0, 0, 0, 0, 0, 0, 0, 0, 0, 0]}\n",
      "Saved MIDI clip to: /Users/honzik/Production Library/Libraries/Ableton/User Library/MIDI Clips/2025_03_26/house/drums_house_20.mid\n",
      "MIDI generation and saving complete for pattern 1!\n",
      "{'pattern_num': 20, 'genre': 'house', 'tags': ['future', 'bass-driven'], 'desc': 'Future house with punchy kicks and minimal hi-hats', 'kick': [100, 0, 0, 90, 0, 0, 100, 0, 0, 0, 100, 0, 0, 90, 0, 0], 'snare': [0, 0, 0, 0, 100, 0, 0, 0, 0, 0, 0, 0, 100, 0, 0, 0], 'tom': [0, 0, 0, 0, 0, 0, 0, 0, 0, 0, 0, 0, 0, 0, 0, 0], 'clap': [0, 0, 0, 0, 90, 0, 0, 0, 0, 0, 0, 0, 90, 0, 0, 0], 'oh': [0, 0, 0, 0, 0, 0, 0, 0, 0, 0, 0, 0, 0, 0, 0, 0], 'ch': [0, 70, 0, 70, 0, 70, 0, 70, 0, 70, 0, 70, 0, 70, 0, 70], 'ride': [0, 0, 0, 0, 0, 0, 0, 0, 0, 0, 0, 0, 0, 0, 0, 0]}\n",
      "Saved MIDI clip to: /Users/honzik/Production Library/Libraries/Ableton/User Library/MIDI Clips/2025_03_26/house/drums_house_21.mid\n",
      "MIDI generation and saving complete for pattern 1!\n"
     ]
    }
   ],
   "source": [
    "for pattern in house_patterns:\n",
    "    print(pattern)\n",
    "    process_pattern_to_midi(pattern, output_dir=output_dir)\n",
    "\n",
    "for pattern in ukg_patterns:\n",
    "    print(pattern)\n",
    "    process_pattern_to_midi(pattern, output_dir=output_dir)\n",
    "\n",
    "for pattern in dnb_patterns:\n",
    "    print(pattern)\n",
    "    process_pattern_to_midi(pattern, output_dir=output_dir)"
   ]
  },
  {
   "cell_type": "code",
   "execution_count": null,
   "metadata": {},
   "outputs": [
    {
     "name": "stdout",
     "output_type": "stream",
     "text": [
      "Saved MIDI clip to: /Users/honzik/Production Library/Libraries/Ableton/User Library/MIDI Clips/2025_03_26/house/drums_house_1.mid\n",
      "MIDI generation and saving complete!\n"
     ]
    }
   ],
   "source": [
    "# # Create a 16-bar phrase by repeating the base pattern (you could use your previous variation logic here)\n",
    "# # phrase = [base_pattern.copy() for _ in range(16)]\n",
    "# phrase = generate_4_bar_clip(base_pattern)\n",
    "\n",
    "# # Step 2: Convert the phrase to a MIDI sequence with humanization\n",
    "# midi_track = create_midi_sequence(\n",
    "#     phrase,\n",
    "#     drum_map,\n",
    "#     ticks_per_16th=120,         # Standard MIDI resolution: 480 ticks/quarter note, so 120 ticks/16th\n",
    "#     mode='both',                # Humanize both velocity and timing\n",
    "#     velocity_range=15,          # ±15 velocity variation\n",
    "#     timing_range=20             # ±20 ticks timing variation (subtle swing)\n",
    "# )\n",
    "\n",
    "# # Step 3: Save the MIDI clip\n",
    "# save_midi_clip(\n",
    "#     midi_track,\n",
    "#     instrument=\"drums\",\n",
    "#     genre=\"house\",   # Adjust genre as needed\n",
    "#     output_dir=output_dir         \n",
    "# )\n",
    "\n",
    "# # Optional: Print confirmation\n",
    "# print(\"MIDI generation and saving complete!\")"
   ]
  }
 ],
 "metadata": {
  "kernelspec": {
   "display_name": "midi_beats",
   "language": "python",
   "name": "python3"
  },
  "language_info": {
   "codemirror_mode": {
    "name": "ipython",
    "version": 3
   },
   "file_extension": ".py",
   "mimetype": "text/x-python",
   "name": "python",
   "nbconvert_exporter": "python",
   "pygments_lexer": "ipython3",
   "version": "3.11.11"
  }
 },
 "nbformat": 4,
 "nbformat_minor": 2
}
