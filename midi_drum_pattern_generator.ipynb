{
 "cells": [
  {
   "cell_type": "markdown",
   "metadata": {},
   "source": [
    "# 🥁 MIDI Drum Pattern Generator\n",
    "\n",
    "This notebook creates 1-bar MIDI loops for four electronic genres:\n",
    "- House\n",
    "- Breakbeat\n",
    "- UK Garage\n",
    "- Drum & Bass\n",
    "\n",
    "Drag the generated `.mid` files into your DAW (e.g. Ableton) to use."
   ]
  },
  {
   "cell_type": "markdown",
   "metadata": {},
   "source": [
    "## 📦 Imports and Setup\n",
    "\n",
    "Imports required libraries and defines helper functions."
   ]
  },
  {
   "cell_type": "code",
   "execution_count": null,
   "metadata": {},
   "outputs": [],
   "source": [
    "# Install mido if not already installed:\n",
    "# pip install mido\n",
    "\n",
    "# import mido\n",
    "# from mido import Message, MidiFile, MidiTrack, MetaMessage\n",
    "# import datetime\n",
    "# from datetime import datetime\n",
    "# import os\n",
    "# import random\n",
    "# from midiutil import MIDIFile\n",
    "\n",
    "from drum_pattern_generator import generate_midi_patterns\n",
    "import os\n",
    "from datetime import datetime"
   ]
  },
  {
   "cell_type": "markdown",
   "metadata": {},
   "source": [
    "## ▶️ Generate MIDI Files\n",
    "---\n",
    "\n",
    "This cell runs the defined drum pattern functions and saves the output:\n",
    "\n",
    "- `house_pattern.mid`\n",
    "- `breaks_pattern.mid`\n",
    "- `ukg_pattern.mid`\n",
    "- `dnb_pattern.mid`\n",
    "\n",
    "You can drag these directly into your DAW to start building your tracks."
   ]
  },
  {
   "cell_type": "code",
   "execution_count": 10,
   "metadata": {},
   "outputs": [],
   "source": [
    "# Set your master output directory with a dated subfolder.\n",
    "output_base = \"/Users/honzik/Production Library/Libraries/Ableton/User Library/MIDI Clips\"\n",
    "\n",
    "# Set generation parameters.\n",
    "n_variations = 1\n",
    "verbose=True"
   ]
  },
  {
   "cell_type": "code",
   "execution_count": 11,
   "metadata": {},
   "outputs": [
    {
     "name": "stdout",
     "output_type": "stream",
     "text": [
      "Processing house patterns...\n",
      "✅ MIDI files generated and saved:\n",
      " Variation 1:\n",
      "   kick: /Users/honzik/Production Library/Libraries/Ableton/User Library/MIDI Clips/2025_03_26/house/variation_1/kick_house_1_4.mid\n",
      "   snare: /Users/honzik/Production Library/Libraries/Ableton/User Library/MIDI Clips/2025_03_26/house/variation_1/snare_house_1_4.mid\n",
      "   clap: /Users/honzik/Production Library/Libraries/Ableton/User Library/MIDI Clips/2025_03_26/house/variation_1/clap_house_1_4.mid\n",
      "   chh: /Users/honzik/Production Library/Libraries/Ableton/User Library/MIDI Clips/2025_03_26/house/variation_1/hats_house_1_4.mid\n",
      "   ohh: /Users/honzik/Production Library/Libraries/Ableton/User Library/MIDI Clips/2025_03_26/house/variation_1/ohh_house_1_4.mid\n",
      "Processing ukg patterns...\n",
      "Processing ukg patterns...\n",
      "✅ MIDI files generated and saved:\n",
      " Variation 1:\n",
      "   kick: /Users/honzik/Production Library/Libraries/Ableton/User Library/MIDI Clips/2025_03_26/ukg/variation_1/kick_ukg_1_4.mid\n",
      "   snare: /Users/honzik/Production Library/Libraries/Ableton/User Library/MIDI Clips/2025_03_26/ukg/variation_1/snare_ukg_1_4.mid\n",
      "   clap: /Users/honzik/Production Library/Libraries/Ableton/User Library/MIDI Clips/2025_03_26/ukg/variation_1/clap_ukg_1_4.mid\n",
      "   chh: /Users/honzik/Production Library/Libraries/Ableton/User Library/MIDI Clips/2025_03_26/ukg/variation_1/hats_ukg_1_4.mid\n",
      "   ohh: /Users/honzik/Production Library/Libraries/Ableton/User Library/MIDI Clips/2025_03_26/ukg/variation_1/ohh_ukg_1_4.mid\n",
      "Processing dnb patterns...\n",
      "Processing dnb patterns...\n",
      "✅ MIDI files generated and saved:\n",
      " Variation 1:\n",
      "   kick: /Users/honzik/Production Library/Libraries/Ableton/User Library/MIDI Clips/2025_03_26/dnb/variation_1/kick_dnb_1_4.mid\n",
      "   snare: /Users/honzik/Production Library/Libraries/Ableton/User Library/MIDI Clips/2025_03_26/dnb/variation_1/snare_dnb_1_4.mid\n",
      "   clap: /Users/honzik/Production Library/Libraries/Ableton/User Library/MIDI Clips/2025_03_26/dnb/variation_1/clap_dnb_1_4.mid\n",
      "   chh: /Users/honzik/Production Library/Libraries/Ableton/User Library/MIDI Clips/2025_03_26/dnb/variation_1/hats_dnb_1_4.mid\n",
      "   ohh: /Users/honzik/Production Library/Libraries/Ableton/User Library/MIDI Clips/2025_03_26/dnb/variation_1/ohh_dnb_1_4.mid\n"
     ]
    }
   ],
   "source": [
    "date_tag = datetime.now().strftime(\"%Y_%m_%d\")\n",
    "output_dir = os.path.join(output_base, date_tag)\n",
    "os.makedirs(output_dir, exist_ok=True)\n",
    "\n",
    "velocity_var = 15\n",
    "timing_var = 0.02\n",
    "tempo_house = 120.0\n",
    "tempo_ukg = 132.0\n",
    "tempo_dnb = 174.0\n",
    "seed = 1000  # For reproducibility; set to None to disable fixed seeding.\n",
    "\n",
    "house_files = generate_midi_patterns(\n",
    "    \"house\",\n",
    "    output_dir,\n",
    "    num_variations=n_variations,\n",
    "    velocity_var=velocity_var,\n",
    "    timing_var=timing_var,\n",
    "    tempo=tempo_house,\n",
    "    seed_base=seed,\n",
    "    verbose=verbose\n",
    ")\n",
    "\n",
    "print(\"Processing ukg patterns...\")\n",
    "ukg_files = generate_midi_patterns(\n",
    "    \"ukg\",\n",
    "    output_dir,\n",
    "    num_variations=n_variations,\n",
    "    velocity_var=velocity_var,\n",
    "    timing_var=timing_var,\n",
    "    tempo=tempo_ukg,\n",
    "    seed_base=seed,\n",
    "    verbose=verbose\n",
    ")\n",
    "\n",
    "print(\"Processing dnb patterns...\")\n",
    "dnb_files = generate_midi_patterns(\n",
    "    \"dnb\",\n",
    "    output_dir,\n",
    "    num_variations=n_variations,\n",
    "    velocity_var=velocity_var,\n",
    "    timing_var=timing_var,\n",
    "    tempo=tempo_dnb,\n",
    "    seed_base=seed,\n",
    "    verbose=verbose\n",
    ")"
   ]
  },
  {
   "cell_type": "code",
   "execution_count": 8,
   "metadata": {},
   "outputs": [
    {
     "name": "stdout",
     "output_type": "stream",
     "text": [
      "✅ MIDI files generated and saved:\n",
      "House:\n",
      " Variation 1:\n",
      "   kick: /Users/honzik/Production Library/Libraries/Ableton/User Library/MIDI Clips/2025_03_26/house/variation_1/kick_house_1_3.mid\n",
      "   snare: /Users/honzik/Production Library/Libraries/Ableton/User Library/MIDI Clips/2025_03_26/house/variation_1/snare_house_1_3.mid\n",
      "   clap: /Users/honzik/Production Library/Libraries/Ableton/User Library/MIDI Clips/2025_03_26/house/variation_1/clap_house_1_3.mid\n",
      "   chh: /Users/honzik/Production Library/Libraries/Ableton/User Library/MIDI Clips/2025_03_26/house/variation_1/hats_house_1_3.mid\n",
      "   ohh: /Users/honzik/Production Library/Libraries/Ableton/User Library/MIDI Clips/2025_03_26/house/variation_1/ohh_house_1_3.mid\n",
      "UKG:\n",
      " Variation 1:\n",
      "   kick: /Users/honzik/Production Library/Libraries/Ableton/User Library/MIDI Clips/2025_03_26/ukg/variation_1/kick_ukg_1_3.mid\n",
      "   snare: /Users/honzik/Production Library/Libraries/Ableton/User Library/MIDI Clips/2025_03_26/ukg/variation_1/snare_ukg_1_3.mid\n",
      "   clap: /Users/honzik/Production Library/Libraries/Ableton/User Library/MIDI Clips/2025_03_26/ukg/variation_1/clap_ukg_1_3.mid\n",
      "   chh: /Users/honzik/Production Library/Libraries/Ableton/User Library/MIDI Clips/2025_03_26/ukg/variation_1/hats_ukg_1_3.mid\n",
      "   ohh: /Users/honzik/Production Library/Libraries/Ableton/User Library/MIDI Clips/2025_03_26/ukg/variation_1/ohh_ukg_1_3.mid\n",
      "DnB:\n",
      " Variation 1:\n",
      "   kick: /Users/honzik/Production Library/Libraries/Ableton/User Library/MIDI Clips/2025_03_26/dnb/variation_1/kick_dnb_1_3.mid\n",
      "   snare: /Users/honzik/Production Library/Libraries/Ableton/User Library/MIDI Clips/2025_03_26/dnb/variation_1/snare_dnb_1_3.mid\n",
      "   clap: /Users/honzik/Production Library/Libraries/Ableton/User Library/MIDI Clips/2025_03_26/dnb/variation_1/clap_dnb_1_3.mid\n",
      "   chh: /Users/honzik/Production Library/Libraries/Ableton/User Library/MIDI Clips/2025_03_26/dnb/variation_1/hats_dnb_1_3.mid\n",
      "   ohh: /Users/honzik/Production Library/Libraries/Ableton/User Library/MIDI Clips/2025_03_26/dnb/variation_1/ohh_dnb_1_3.mid\n"
     ]
    }
   ],
   "source": [
    "# Display output files\n",
    "\n",
    "print(\"✅ MIDI files generated and saved:\")\n",
    "print(\"House:\")\n",
    "for var, files in house_files.items():\n",
    "    print(f\" Variation {var}:\")\n",
    "    for inst, path in files.items():\n",
    "        print(f\"   {inst}: {path}\")\n",
    "print(\"UKG:\")\n",
    "for var, files in ukg_files.items():\n",
    "    print(f\" Variation {var}:\")\n",
    "    for inst, path in files.items():\n",
    "        print(f\"   {inst}: {path}\")\n",
    "print(\"DnB:\")\n",
    "for var, files in dnb_files.items():\n",
    "    print(f\" Variation {var}:\")\n",
    "    for inst, path in files.items():\n",
    "        print(f\"   {inst}: {path}\")\n",
    "\n"
   ]
  }
 ],
 "metadata": {
  "kernelspec": {
   "display_name": "midi_beats",
   "language": "python",
   "name": "python3"
  },
  "language_info": {
   "codemirror_mode": {
    "name": "ipython",
    "version": 3
   },
   "file_extension": ".py",
   "mimetype": "text/x-python",
   "name": "python",
   "nbconvert_exporter": "python",
   "pygments_lexer": "ipython3",
   "version": "3.11.11"
  }
 },
 "nbformat": 4,
 "nbformat_minor": 2
}
