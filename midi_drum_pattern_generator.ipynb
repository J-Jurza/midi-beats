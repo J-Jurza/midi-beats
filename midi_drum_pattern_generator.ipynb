{
 "cells": [
  {
   "cell_type": "markdown",
   "metadata": {},
   "source": [
    "# 🥁 MIDI Drum Pattern Generator\n",
    "\n",
    "This notebook creates 1-bar MIDI loops for four electronic genres:\n",
    "- House\n",
    "- Breakbeat\n",
    "- UK Garage\n",
    "- Drum & Bass\n",
    "\n",
    "Drag the generated `.mid` files into your DAW (e.g. Ableton) to use."
   ]
  },
  {
   "cell_type": "markdown",
   "metadata": {},
   "source": [
    "## 📦 Imports and Setup\n",
    "\n",
    "Imports required libraries and defines helper functions."
   ]
  },
  {
   "cell_type": "code",
   "execution_count": 1,
   "metadata": {},
   "outputs": [],
   "source": [
    "# Install mido if not already installed:\n",
    "# pip install mido\n",
    "\n",
    "import mido\n",
    "from mido import Message, MidiFile, MidiTrack, MetaMessage"
   ]
  },
  {
   "cell_type": "markdown",
   "metadata": {},
   "source": [
    "## 🎛️ Define Drum Pattern Functions\n",
    "\n",
    "This cell defines functions to generate 1-bar MIDI drum patterns for:\n",
    "\n",
    "- `generate_house_pattern()`\n",
    "- `generate_breaks_pattern()`\n",
    "- `generate_ukg_pattern()`\n",
    "- `generate_dnb_pattern()`\n",
    "\n",
    "Each function creates a `.mid` file with genre-specific rhythms using General MIDI drum notes.\n"
   ]
  },
  {
   "cell_type": "code",
   "execution_count": null,
   "metadata": {},
   "outputs": [
    {
     "name": "stdout",
     "output_type": "stream",
     "text": [
      "✅ MIDI files generated:\n",
      "- house_pattern.mid\n",
      "- breaks_pattern.mid\n",
      "- ukg_pattern.mid\n",
      "- dnb_pattern.mid\n"
     ]
    }
   ],
   "source": [
    "def add_drum_note(track, note, start_time, duration, velocity=100, channel=9):\n",
    "    track.append(Message('note_on', note=note, velocity=velocity, time=start_time, channel=channel))\n",
    "    track.append(Message('note_off', note=note, velocity=velocity, time=duration, channel=channel))\n",
    "\n",
    "def create_midi_with_tempo(bpm=120, ticks_per_beat=480):\n",
    "    mid = MidiFile(type=1)\n",
    "    mid.ticks_per_beat = ticks_per_beat\n",
    "    track = MidiTrack()\n",
    "    mid.tracks.append(track)\n",
    "    track.append(MetaMessage('set_tempo', tempo=mido.bpm2tempo(bpm), time=0))\n",
    "    return mid, track\n",
    "\n",
    "def generate_house_pattern(filename=\"house_pattern.mid\"):\n",
    "    mid, track = create_midi_with_tempo(bpm=120)\n",
    "    TPB = mid.ticks_per_beat\n",
    "    kick, snare, hihat = 36, 38, 42\n",
    "\n",
    "    for beat in range(4):\n",
    "        add_drum_note(track, kick, beat * TPB, 1)\n",
    "    for beat in [1, 3]:\n",
    "        add_drum_note(track, snare, beat * TPB, 1)\n",
    "    for i in range(8):\n",
    "        add_drum_note(track, hihat, i * (TPB // 2), 1, velocity=80)\n",
    "\n",
    "    mid.save(filename)\n",
    "\n",
    "def generate_breaks_pattern(filename=\"breaks_pattern.mid\"):\n",
    "    mid, track = create_midi_with_tempo(bpm=130)\n",
    "    TPB = mid.ticks_per_beat\n",
    "    sixteenth = TPB // 4\n",
    "    eighth = TPB // 2\n",
    "    kick, snare, hihat, hihat_open = 36, 38, 42, 46\n",
    "\n",
    "    add_drum_note(track, kick, 0, 1)\n",
    "    add_drum_note(track, kick, 3 * sixteenth, 1, velocity=90)\n",
    "    add_drum_note(track, kick, 2 * TPB, 1)\n",
    "    add_drum_note(track, snare, TPB, 1, velocity=110)\n",
    "    add_drum_note(track, snare, 3 * TPB, 1, velocity=110)\n",
    "\n",
    "    for i in range(8):\n",
    "        add_drum_note(track, hihat, i * eighth, 1, velocity=70)\n",
    "    add_drum_note(track, hihat_open, 7 * eighth, 1, velocity=80)\n",
    "\n",
    "    mid.save(filename)\n",
    "\n",
    "def generate_ukg_pattern(filename=\"ukg_pattern.mid\"):\n",
    "    mid, track = create_midi_with_tempo(bpm=132)\n",
    "    TPB = mid.ticks_per_beat\n",
    "    eighth = TPB // 2\n",
    "    kick, snare, hihat = 36, 38, 42\n",
    "\n",
    "    add_drum_note(track, kick, 0, 1)\n",
    "    add_drum_note(track, kick, int(2 * TPB + (TPB / 2)), 1)\n",
    "    add_drum_note(track, snare, TPB, 1, velocity=110)\n",
    "    add_drum_note(track, snare, 3 * TPB, 1, velocity=110)\n",
    "\n",
    "    for i in range(8):\n",
    "        start = i * eighth\n",
    "        if i % 2 == 1:\n",
    "            start += 20\n",
    "        add_drum_note(track, hihat, start, 1, velocity=85)\n",
    "\n",
    "    mid.save(filename)\n",
    "\n",
    "def generate_dnb_pattern(filename=\"dnb_pattern.mid\"):\n",
    "    mid, track = create_midi_with_tempo(bpm=174)\n",
    "    TPB = mid.ticks_per_beat\n",
    "    sixteenth = TPB // 4\n",
    "    kick, snare, hihat = 36, 38, 42\n",
    "\n",
    "    add_drum_note(track, kick, 0, 1, velocity=110)\n",
    "    add_drum_note(track, kick, int(0.5 * TPB), 1, velocity=90)\n",
    "    add_drum_note(track, kick, int(TPB - sixteenth), 1, velocity=60)\n",
    "\n",
    "    add_drum_note(track, snare, TPB, 1, velocity=120)\n",
    "    add_drum_note(track, snare, 3 * TPB, 1, velocity=120)\n",
    "\n",
    "    for i in range(16):\n",
    "        add_drum_note(track, hihat, i * sixteenth, 1, velocity=70)\n",
    "\n",
    "    mid.save(filename)"
   ]
  },
  {
   "cell_type": "markdown",
   "metadata": {},
   "source": [
    "## ▶️ Generate MIDI Files\n",
    "\n",
    "This cell runs the defined drum pattern functions and saves the output:\n",
    "\n",
    "- `house_pattern.mid`\n",
    "- `breaks_pattern.mid`\n",
    "- `ukg_pattern.mid`\n",
    "- `dnb_pattern.mid`\n",
    "\n",
    "You can drag these directly into your DAW to start building your tracks."
   ]
  },
  {
   "cell_type": "code",
   "execution_count": 4,
   "metadata": {},
   "outputs": [
    {
     "name": "stdout",
     "output_type": "stream",
     "text": [
      "✅ MIDI files generated:\n",
      "- house_pattern.mid\n",
      "- breaks_pattern.mid\n",
      "- ukg_pattern.mid\n",
      "- dnb_pattern.mid\n"
     ]
    }
   ],
   "source": [
    "generate_house_pattern()\n",
    "generate_breaks_pattern()\n",
    "generate_ukg_pattern()\n",
    "generate_dnb_pattern()\n",
    "\n",
    "print(\"✅ MIDI files generated:\\n- house_pattern.mid\\n- breaks_pattern.mid\\n- ukg_pattern.mid\\n- dnb_pattern.mid\")"
   ]
  },
  {
   "cell_type": "code",
   "execution_count": null,
   "metadata": {},
   "outputs": [],
   "source": []
  }
 ],
 "metadata": {
  "kernelspec": {
   "display_name": "midi_beats",
   "language": "python",
   "name": "python3"
  },
  "language_info": {
   "codemirror_mode": {
    "name": "ipython",
    "version": 3
   },
   "file_extension": ".py",
   "mimetype": "text/x-python",
   "name": "python",
   "nbconvert_exporter": "python",
   "pygments_lexer": "ipython3",
   "version": "3.11.11"
  }
 },
 "nbformat": 4,
 "nbformat_minor": 2
}
