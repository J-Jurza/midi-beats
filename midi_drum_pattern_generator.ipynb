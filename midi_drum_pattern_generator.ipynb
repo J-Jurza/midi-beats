{
 "cells": [
  {
   "cell_type": "markdown",
   "metadata": {},
   "source": [
    "# 🥁 MIDI Drum Pattern Generator\n",
    "\n",
    "This notebook creates 1-bar MIDI loops for four electronic genres:\n",
    "- House\n",
    "- Breakbeat\n",
    "- UK Garage\n",
    "- Drum & Bass\n",
    "\n",
    "Drag the generated `.mid` files into your DAW (e.g. Ableton) to use."
   ]
  },
  {
   "cell_type": "markdown",
   "metadata": {},
   "source": [
    "## 📦 Imports and Setup\n",
    "\n",
    "Imports required libraries and defines helper functions."
   ]
  },
  {
   "cell_type": "code",
   "execution_count": 1,
   "metadata": {},
   "outputs": [],
   "source": [
    "# Install mido if not already installed:\n",
    "# pip install mido\n",
    "\n",
    "import mido\n",
    "from mido import Message, MidiFile, MidiTrack, MetaMessage\n",
    "import datetime\n",
    "from datetime import datetime\n",
    "import os\n",
    "import random\n",
    "from midiutil import MIDIFile\n",
    "\n",
    "# Import app functions\n",
    "from drum_generator_functions import *"
   ]
  },
  {
   "cell_type": "markdown",
   "metadata": {},
   "source": [
    "## ▶️ Generate MIDI Files\n",
    "---\n",
    "\n",
    "This cell runs the defined drum pattern functions and saves the output:\n",
    "\n",
    "- `house_pattern.mid`\n",
    "- `breaks_pattern.mid`\n",
    "- `ukg_pattern.mid`\n",
    "- `dnb_pattern.mid`\n",
    "\n",
    "You can drag these directly into your DAW to start building your tracks."
   ]
  },
  {
   "cell_type": "code",
   "execution_count": 2,
   "metadata": {},
   "outputs": [],
   "source": [
    "# Set the master output path\n",
    "output_base = \"/Users/honzik/Production Library/Libraries/Ableton/User Library/MIDI Clips\"\n",
    "\n",
    "# Number of ABAC 4-bar loops per genre\n",
    "n_variations = 5"
   ]
  },
  {
   "cell_type": "code",
   "execution_count": null,
   "metadata": {},
   "outputs": [
    {
     "name": "stdout",
     "output_type": "stream",
     "text": [
      "✅ All drum clips generated:\n",
      " - House: /Users/honzik/Production Library/Libraries/Ableton/User Library/MIDI Clips/2025_03_25/house\n",
      " - Breaks: /Users/honzik/Production Library/Libraries/Ableton/User Library/MIDI Clips/2025_03_25/breaks\n",
      " - UKG: /Users/honzik/Production Library/Libraries/Ableton/User Library/MIDI Clips/2025_03_25/ukg\n",
      " - DnB: /Users/honzik/Production Library/Libraries/Ableton/User Library/MIDI Clips/2025_03_25/dnb\n"
     ]
    }
   ],
   "source": [
    "# Optional: add a dated subfolder to keep clips organise\n",
    "from datetime import datetime\n",
    "date_tag = datetime.now().strftime(\"%Y_%m_%d\")\n",
    "output_dir = os.path.join(output_base, date_tag)\n",
    "os.makedirs(output_dir, exist_ok=True)\n",
    "\n",
    "# Generate House clips\n",
    "house_path = create_house_patterns(\n",
    "    output_dir=output_dir,\n",
    "    num_variations=n_variations,\n",
    "    velocity_var=15,\n",
    "    timing_var=0.02,\n",
    "    tempo=120.0\n",
    ")\n",
    "\n",
    "# Generate Breaks clips\n",
    "breaks_path = create_breaks_patterns(\n",
    "    output_dir=output_dir,\n",
    "    num_variations=n_variations,\n",
    "    velocity_var=15,\n",
    "    timing_var=0.02,\n",
    "    tempo=130.0\n",
    ")\n",
    "\n",
    "# Generate UKG clips\n",
    "ukg_path = create_ukg_patterns(\n",
    "    output_dir=output_dir,\n",
    "    num_variations=n_variations,\n",
    "    velocity_var=15,\n",
    "    timing_var=0.02,\n",
    "    tempo=132.0\n",
    ")\n",
    "\n",
    "# Generate Drum & Bass clips\n",
    "dnb_path = create_dnb_patterns(\n",
    "    output_dir=output_dir,\n",
    "    num_variations=n_variations,\n",
    "    velocity_var=15,\n",
    "    timing_var=0.02,\n",
    "    tempo=174.0\n",
    ")\n",
    "\n",
    "print(\"✅ All drum clips generated:\")\n",
    "print(f\" - House: {house_path}\")\n",
    "print(f\" - Breaks: {breaks_path}\")\n",
    "print(f\" - UKG: {ukg_path}\")\n",
    "print(f\" - DnB: {dnb_path}\")\n"
   ]
  }
 ],
 "metadata": {
  "kernelspec": {
   "display_name": "midi_beats",
   "language": "python",
   "name": "python3"
  },
  "language_info": {
   "codemirror_mode": {
    "name": "ipython",
    "version": 3
   },
   "file_extension": ".py",
   "mimetype": "text/x-python",
   "name": "python",
   "nbconvert_exporter": "python",
   "pygments_lexer": "ipython3",
   "version": "3.11.11"
  }
 },
 "nbformat": 4,
 "nbformat_minor": 2
}
